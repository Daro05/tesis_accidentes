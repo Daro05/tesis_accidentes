{
 "cells": [
  {
   "cell_type": "markdown",
   "metadata": {},
   "source": [
    "# Descubrimientos de patrones de accidentes de tránsito en la CDMX"
   ]
  },
  {
   "cell_type": "markdown",
   "metadata": {},
   "source": [
    "## Generación de características espaciales indirectas"
   ]
  },
  {
   "cell_type": "markdown",
   "metadata": {},
   "source": [
    "Cargamos las librerías necesarias "
   ]
  },
  {
   "cell_type": "code",
   "execution_count": 2,
   "metadata": {},
   "outputs": [],
   "source": [
    "from math import radians, cos, sin, asin, sqrt, atan2\n",
    "import numpy as np\n",
    "import pandas as pd\n",
    "import matplotlib.pyplot as plt\n",
    "import matplotlib as mpl\n",
    "from pylab import rcParams\n",
    "import seaborn as sns\n",
    "import folium\n",
    "import networkx as nx\n",
    "import osmnx as ox\n",
    "import geopandas as gpd\n",
    "from shapely.geometry import Point, Polygon, LineString, MultiLineString\n",
    "import shapefile as shp\n",
    "import warnings\n",
    "warnings.filterwarnings('ignore')\n",
    "pd.set_option('display.max_columns', None)"
   ]
  },
  {
   "cell_type": "code",
   "execution_count": 3,
   "metadata": {},
   "outputs": [],
   "source": [
    "sns.mpl.rc(\"figure\", figsize=(20, 15))\n",
    "mpl.rcParams['figure.dpi']= 200"
   ]
  },
  {
   "cell_type": "markdown",
   "metadata": {},
   "source": [
    "Cargamos las capas a usar para generar las características espaciales previamente procesadas"
   ]
  },
  {
   "cell_type": "code",
   "execution_count": 4,
   "metadata": {},
   "outputs": [],
   "source": [
    "pois         = gpd.read_file('/Users/daniel.rodriguez/Documents/ACC/ACC_PROOF/ACC1//shp_b//processed_data//shp_OSM//pois.shp')\n",
    "traffic      = gpd.read_file('/Users/daniel.rodriguez/Documents/ACC/ACC_PROOF/ACC1//shp_b//processed_data//shp_OSM//traffic.shp')\n",
    "trans        = gpd.read_file('/Users/daniel.rodriguez/Documents/ACC/ACC_PROOF/ACC1//shp_b//processed_data//shp_transp//estaciones_transp.shp')\n",
    "intersect    = gpd.read_file('/Users/daniel.rodriguez/Documents/ACC/ACC_PROOF/ACC1//shp_b//processed_data//shp_OSM//intersections.shp')\n",
    "road_hex50   = gpd.read_file('/Users/daniel.rodriguez/Documents/ACC/ACC_PROOF/ACC1//shp_b//processed_data//hex_roads//road_hex50.shp')\n",
    "road_hex100  = gpd.read_file('/Users/daniel.rodriguez/Documents/ACC/ACC_PROOF/ACC1//shp_b//processed_data//hex_roads//road_hex100.shp')\n",
    "road_hex200  = gpd.read_file('/Users/daniel.rodriguez/Documents/ACC/ACC_PROOF/ACC1//shp_b//processed_data//hex_roads//road_hex200.shp')\n",
    "road_hex300  = gpd.read_file('/Users/daniel.rodriguez/Documents/ACC/ACC_PROOF/ACC1//shp_b//processed_data//hex_roads//road_hex300.shp')\n",
    "road_hex500  = gpd.read_file('/Users/daniel.rodriguez/Documents/ACC/ACC_PROOF/ACC1//shp_b//processed_data//hex_roads//road_hex500.shp')\n",
    "cruces_index = gpd.read_file('/Users/daniel.rodriguez/Documents/ACC/ACC_PROOF/ACC1//shp_b//processed_data//cruces//cruces_pelis.shp')"
   ]
  },
  {
   "cell_type": "code",
   "execution_count": 5,
   "metadata": {},
   "outputs": [],
   "source": [
    "road_hex50 = road_hex50.reset_index()\n",
    "road_hex50.rename(columns={'index':'FID'}, inplace = True)\n",
    "\n",
    "road_hex100 = road_hex100.reset_index()\n",
    "road_hex100.rename(columns={'index':'FID'}, inplace = True)\n",
    "\n",
    "road_hex200 = road_hex200.reset_index()\n",
    "road_hex200.rename(columns={'index':'FID'}, inplace = True)\n",
    "\n",
    "road_hex300 = road_hex300.reset_index()\n",
    "road_hex300.rename(columns={'index':'FID'}, inplace = True)\n",
    "\n",
    "road_hex500 = road_hex500.reset_index()\n",
    "road_hex500.rename(columns={'index':'FID'}, inplace = True)"
   ]
  },
  {
   "cell_type": "markdown",
   "metadata": {},
   "source": [
    "Vemos cuantos hexagonos tiene cada malla con distintos radios"
   ]
  },
  {
   "cell_type": "code",
   "execution_count": 7,
   "metadata": {},
   "outputs": [
    {
     "name": "stdout",
     "output_type": "stream",
     "text": [
      "La malla con radio de 50m contiene: 263405 héxagonos\n",
      "La malla con radio de 50m contiene: 94510 héxagonos\n",
      "La malla con radio de 50m contiene: 25859 héxagonos\n",
      "La malla con radio de 50m contiene: 13043 héxagonos\n",
      "La malla con radio de 50m contiene: 5501 héxagonos\n"
     ]
    }
   ],
   "source": [
    "print(\"La malla con radio de 50m contiene:\",len(road_hex50), \"hexágonos\")\n",
    "print(\"La malla con radio de 100m contiene:\",len(road_hex100), \"hexágonos\")\n",
    "print(\"La malla con radio de 200m contiene:\",len(road_hex200), \"hexágonos\")\n",
    "print(\"La malla con radio de 300m contiene:\",len(road_hex300), \"hexágonos\")\n",
    "print(\"La malla con radio de 500m contiene:\",len(road_hex500), \"hexágonos\")\n"
   ]
  },
  {
   "cell_type": "markdown",
   "metadata": {},
   "source": [
    "Para cada malla hexagonal de distinto radio, debemos de agregar las características indirectas como sigue"
   ]
  },
  {
   "cell_type": "code",
   "execution_count": 25,
   "metadata": {},
   "outputs": [],
   "source": [
    "g = road_hex200"
   ]
  },
  {
   "cell_type": "markdown",
   "metadata": {},
   "source": [
    "Agregamos las caracteristicas indirectas al grid"
   ]
  },
  {
   "cell_type": "markdown",
   "metadata": {},
   "source": [
    "Función para la agregación de las variables indirectas a la malla, donde:\n",
    "    1. g --> es la malla a la que se agregaran las características indirectas.\n",
    "    2. p --> es la característica indirecta que se agregará.\n",
    "    3. fclass --> es el tipo de característica indirecta."
   ]
  },
  {
   "cell_type": "code",
   "execution_count": 26,
   "metadata": {},
   "outputs": [],
   "source": [
    "def agreg_ind(g, p, fclass):\n",
    "    p_x = p[p.fclass == fclass]\n",
    "    x = p_x[['geometry']].copy()\n",
    "    g = gpd.sjoin(g, x, how = 'left', op = 'intersects')\n",
    "    g = g.fillna(0)\n",
    "    g = g.rename(columns = {'index_right':fclass})\n",
    "    g[fclass] = g[fclass].apply(lambda x: 0 if x == 0.0 else 1)\n",
    "    g = g.groupby('FID', as_index = False).agg({fclass: 'sum', \n",
    "                                           'geometry':'first'})\n",
    "    g = gpd.GeoDataFrame(g, crs = '4326')\n",
    "    print(\"Característica indirecta agregada\",fclass,g.shape)\n",
    "    return g"
   ]
  },
  {
   "cell_type": "markdown",
   "metadata": {},
   "source": [
    "Agregamos los puntos de interés a malla hexagonal"
   ]
  },
  {
   "cell_type": "code",
   "execution_count": 27,
   "metadata": {},
   "outputs": [
    {
     "name": "stdout",
     "output_type": "stream",
     "text": [
      "Característica indirecta agregada university (25859, 3)\n",
      "Característica indirecta agregada school (25859, 3)\n",
      "Característica indirecta agregada kindergarten (25859, 3)\n",
      "Característica indirecta agregada college (25859, 3)\n",
      "Característica indirecta agregada theatre (25859, 3)\n",
      "Característica indirecta agregada nightclub (25859, 3)\n",
      "Característica indirecta agregada cinema (25859, 3)\n",
      "Característica indirecta agregada park (25859, 3)\n",
      "Característica indirecta agregada restaurant (25859, 3)\n",
      "Característica indirecta agregada pub (25859, 3)\n",
      "Característica indirecta agregada bar (25859, 3)\n",
      "Característica indirecta agregada supermarket (25859, 3)\n",
      "Característica indirecta agregada mall (25859, 3)\n",
      "Característica indirecta agregada bank (25859, 3)\n",
      "Característica indirecta agregada museum (25859, 3)\n",
      "Característica indirecta agregada attraction (25859, 3)\n",
      "Característica indirecta agregada hospital (25859, 3)\n",
      "Característica indirecta agregada hotel (25859, 3)\n"
     ]
    }
   ],
   "source": [
    "lst_pois = ['university',\n",
    "            'school',\n",
    "            'kindergarten',\n",
    "            'college',\n",
    "            'theatre',\n",
    "            'nightclub',\n",
    "            'cinema',\n",
    "            'park',\n",
    "            'restaurant',\n",
    "            'pub',\n",
    "            'bar',\n",
    "            'supermarket',\n",
    "            'mall',\n",
    "            'bank',\n",
    "            'museum',\n",
    "            'attraction',\n",
    "            'hospital',\n",
    "            'hotel'\n",
    "           ]\n",
    "\n",
    "\n",
    "p = pois\n",
    "\n",
    "lst_p = []\n",
    "for i in lst_pois:\n",
    "    e = agreg_ind(g, p, i)\n",
    "    lst_p.append(e)\n",
    "    \n",
    "universidad        = lst_p[0]    \n",
    "escuela            = lst_p[1]\n",
    "kinder             = lst_p[2]\n",
    "secundaria         = lst_p[3]\n",
    "teatro             = lst_p[4]\n",
    "club_nocturno      = lst_p[5]\n",
    "cine               = lst_p[6]\n",
    "parque             = lst_p[7]\n",
    "restaurante        = lst_p[8]\n",
    "pub                = lst_p[9]\n",
    "bar                = lst_p[10]\n",
    "supermercado       = lst_p[11]\n",
    "centro_comercial   = lst_p[12]\n",
    "banco              = lst_p[13]\n",
    "museo              = lst_p[14]\n",
    "atraccion_turstica = lst_p[15]\n",
    "hospital           = lst_p[16]              \n",
    "hotel              = lst_p[17]"
   ]
  },
  {
   "cell_type": "markdown",
   "metadata": {},
   "source": [
    "Agregamos infraestructura vial a malla hexagonal"
   ]
  },
  {
   "cell_type": "code",
   "execution_count": 28,
   "metadata": {},
   "outputs": [
    {
     "name": "stdout",
     "output_type": "stream",
     "text": [
      "Característica indirecta agregada traffic_signals (25859, 3)\n",
      "Característica indirecta agregada mini_roundabout (25859, 3)\n",
      "Característica indirecta agregada crossing (25859, 3)\n",
      "Característica indirecta agregada turning_circle (25859, 3)\n",
      "Característica indirecta agregada speed_camera (25859, 3)\n"
     ]
    }
   ],
   "source": [
    "lst_traffic = ['traffic_signals',\n",
    "               'mini_roundabout',\n",
    "               'crossing',\n",
    "               'turning_circle',\n",
    "               'speed_camera',\n",
    "               ]\n",
    "\n",
    "\n",
    "p = traffic\n",
    "\n",
    "lst_t = []\n",
    "for i in lst_traffic:\n",
    "    e = agreg_ind(g, p, i)\n",
    "    lst_t.append(e)\n",
    "    \n",
    "semaforos         = lst_t[0]    \n",
    "glorietas         = lst_t[1]\n",
    "cruces_peatonales = lst_t[2]\n",
    "retornos          = lst_t[3]\n",
    "camaras_velocidad = lst_t[4]\n"
   ]
  },
  {
   "cell_type": "markdown",
   "metadata": {},
   "source": [
    "Agregamos infraestructura de transporte (metro, metrobus, rtp, trolebus, CETRAMS) a malla hexagonal"
   ]
  },
  {
   "cell_type": "code",
   "execution_count": 29,
   "metadata": {},
   "outputs": [
    {
     "name": "stdout",
     "output_type": "stream",
     "text": [
      "Característica indirecta agregada metro (25859, 3)\n",
      "Característica indirecta agregada metrobus (25859, 3)\n",
      "Característica indirecta agregada rtp (25859, 3)\n",
      "Característica indirecta agregada trolebus (25859, 3)\n",
      "Característica indirecta agregada cetram (25859, 3)\n"
     ]
    }
   ],
   "source": [
    "lst_trans = ['metro',\n",
    "             'metrobus',\n",
    "             'rtp',\n",
    "             'trolebus',\n",
    "             'cetram'\n",
    "            ]\n",
    "\n",
    "\n",
    "p = trans\n",
    "\n",
    "lst_tr = []\n",
    "for i in lst_trans:\n",
    "    e = agreg_ind(g, p, i)\n",
    "    lst_tr.append(e)\n",
    "    \n",
    "est_metro    = lst_tr[0]    \n",
    "est_metrobus = lst_tr[1]\n",
    "par_rtp      = lst_tr[2]\n",
    "est_trolebus = lst_tr[3]\n",
    "cetrams      = lst_tr[4]\n"
   ]
  },
  {
   "cell_type": "markdown",
   "metadata": {},
   "source": [
    "Agregamos los cruces peligrosos a la malla hexagonal"
   ]
  },
  {
   "cell_type": "code",
   "execution_count": 30,
   "metadata": {},
   "outputs": [
    {
     "name": "stdout",
     "output_type": "stream",
     "text": [
      "Característica indirecta agregada cruce_peligroso (25859, 3)\n"
     ]
    }
   ],
   "source": [
    "\n",
    "p = cruces_index\n",
    "cruces_peligrosos = agreg_ind(g, p, 'cruce_peligroso')"
   ]
  },
  {
   "cell_type": "markdown",
   "metadata": {},
   "source": [
    "Agregamos intersecciones a malla hexagonal"
   ]
  },
  {
   "cell_type": "code",
   "execution_count": 31,
   "metadata": {},
   "outputs": [
    {
     "name": "stdout",
     "output_type": "stream",
     "text": [
      "Característica indirecta agregada interseccion (25859, 3)\n"
     ]
    }
   ],
   "source": [
    "\n",
    "p = intersect\n",
    "interseccion = agreg_ind(g, p, 'interseccion')"
   ]
  },
  {
   "cell_type": "markdown",
   "metadata": {},
   "source": [
    "Agregamos ciertas caracteristicas formando un buffer alrededor de una distancia dada"
   ]
  },
  {
   "cell_type": "markdown",
   "metadata": {},
   "source": [
    "Función para la agregación de las variables indirectas a la malla, con buffer donde:\n",
    "    1. g --> es la malla a la que se agregaran las características indirectas.\n",
    "    2. p --> es la característica indirecta que se agregará.\n",
    "    3. fclass --> es el tipo de característica indirecta.\n",
    "    4. m --> son los metros de buffer a partir de cada punto."
   ]
  },
  {
   "cell_type": "code",
   "execution_count": 32,
   "metadata": {},
   "outputs": [],
   "source": [
    "def agreg_ind_dist(g,p,fclass,m,):\n",
    "    p_x = p[p.fclass == fclass]\n",
    "    x = p_x[['geometry']].copy()\n",
    "    dist = (m * 0.1) / 11000\n",
    "    x['geometry'] = x.geometry.buffer(dist)\n",
    "    g = gpd.sjoin(g, x, how = 'left', op = 'intersects')\n",
    "    g = g.fillna(0)\n",
    "    fclass = fclass + '_' + str(m)\n",
    "    g = g.rename(columns = {'index_right':fclass})\n",
    "    g[fclass] = g[fclass].apply(lambda x: 0 if x == 0.0 else 1)\n",
    "    g = g.groupby('FID', as_index = False).agg({fclass: 'sum', \n",
    "                                               'geometry':'first'})\n",
    "    g = gpd.GeoDataFrame(g, crs = '4326')\n",
    "    print(\"Característica indirecta agregada\",fclass,g.shape)\n",
    "    return g"
   ]
  },
  {
   "cell_type": "code",
   "execution_count": 33,
   "metadata": {},
   "outputs": [
    {
     "name": "stdout",
     "output_type": "stream",
     "text": [
      "Característica indirecta agregada school_300 (25859, 3)\n",
      "Característica indirecta agregada nightclub_300 (25859, 3)\n",
      "Característica indirecta agregada restaurant_300 (25859, 3)\n",
      "Característica indirecta agregada bar_300 (25859, 3)\n",
      "Característica indirecta agregada hospital_300 (25859, 3)\n",
      "Característica indirecta agregada hotel_300 (25859, 3)\n"
     ]
    }
   ],
   "source": [
    "lst_pois = ['school',\n",
    "            'nightclub',\n",
    "            'restaurant',\n",
    "            'bar',\n",
    "            'hospital',\n",
    "            'hotel']\n",
    "\n",
    "\n",
    "p = pois\n",
    "\n",
    "lst_p = []\n",
    "for i in lst_pois:\n",
    "    e = agreg_ind_dist(g, p, i, 300)\n",
    "    lst_p.append(e)\n",
    "\n",
    "    \n",
    "escuela300            = lst_p[0]  \n",
    "club_nocturno300      = lst_p[1]\n",
    "restaurante300        = lst_p[2]\n",
    "bar300                = lst_p[3]\n",
    "hospital300           = lst_p[4]              \n",
    "hotel300              = lst_p[5]"
   ]
  },
  {
   "cell_type": "code",
   "execution_count": 34,
   "metadata": {},
   "outputs": [
    {
     "name": "stdout",
     "output_type": "stream",
     "text": [
      "Característica indirecta agregada traffic_signals_300 (25859, 3)\n",
      "Característica indirecta agregada crossing_300 (25859, 3)\n",
      "Característica indirecta agregada speed_camera_300 (25859, 3)\n"
     ]
    }
   ],
   "source": [
    "lst_traffic = ['traffic_signals',\n",
    "               'crossing',\n",
    "               'speed_camera',\n",
    "               ]\n",
    "\n",
    "\n",
    "p = traffic\n",
    "\n",
    "lst_t = []\n",
    "for i in lst_traffic:\n",
    "    e = agreg_ind_dist(g, p, i, 300)\n",
    "    lst_t.append(e)\n",
    "    \n",
    "semaforos300         = lst_t[0]    \n",
    "cruces_peatonales300 = lst_t[1]\n",
    "camaras_velocidad300 = lst_t[2]\n"
   ]
  },
  {
   "cell_type": "code",
   "execution_count": 35,
   "metadata": {},
   "outputs": [
    {
     "name": "stdout",
     "output_type": "stream",
     "text": [
      "Característica indirecta agregada rtp_300 (25859, 3)\n",
      "Característica indirecta agregada metro_300 (25859, 3)\n"
     ]
    }
   ],
   "source": [
    "lst_trans = ['rtp',\n",
    "             'metro']\n",
    "\n",
    "\n",
    "p = trans\n",
    "\n",
    "lst_tr = []\n",
    "for i in lst_trans:\n",
    "    e = agreg_ind_dist(g, p, i, 300)\n",
    "    lst_tr.append(e)\n",
    "    \n",
    "est_metro300    = lst_tr[0]    \n",
    "par_rtp300      = lst_tr[1]\n"
   ]
  },
  {
   "cell_type": "code",
   "execution_count": 36,
   "metadata": {},
   "outputs": [],
   "source": [
    "def concat_dataset(df1, df2):\n",
    "    data = pd.concat([df1, df2], axis = 1)\n",
    "    _, i = np.unique(data.columns, return_index=True)\n",
    "    data = data.iloc[:, i]\n",
    "    return data"
   ]
  },
  {
   "cell_type": "code",
   "execution_count": 37,
   "metadata": {},
   "outputs": [
    {
     "data": {
      "text/html": [
       "<div>\n",
       "<style scoped>\n",
       "    .dataframe tbody tr th:only-of-type {\n",
       "        vertical-align: middle;\n",
       "    }\n",
       "\n",
       "    .dataframe tbody tr th {\n",
       "        vertical-align: top;\n",
       "    }\n",
       "\n",
       "    .dataframe thead th {\n",
       "        text-align: right;\n",
       "    }\n",
       "</style>\n",
       "<table border=\"1\" class=\"dataframe\">\n",
       "  <thead>\n",
       "    <tr style=\"text-align: right;\">\n",
       "      <th></th>\n",
       "      <th>FID</th>\n",
       "      <th>left</th>\n",
       "      <th>bottom</th>\n",
       "      <th>right</th>\n",
       "      <th>top</th>\n",
       "      <th>geometry</th>\n",
       "    </tr>\n",
       "  </thead>\n",
       "  <tbody>\n",
       "    <tr>\n",
       "      <th>0</th>\n",
       "      <td>0</td>\n",
       "      <td>-99.34464</td>\n",
       "      <td>19.276072</td>\n",
       "      <td>-99.342453</td>\n",
       "      <td>19.277965</td>\n",
       "      <td>POLYGON ((-99.34464 19.27701856181981, -99.344...</td>\n",
       "    </tr>\n",
       "    <tr>\n",
       "      <th>1</th>\n",
       "      <td>1</td>\n",
       "      <td>-99.34464</td>\n",
       "      <td>19.277965</td>\n",
       "      <td>-99.342453</td>\n",
       "      <td>19.279859</td>\n",
       "      <td>POLYGON ((-99.34464 19.27891227158569, -99.344...</td>\n",
       "    </tr>\n",
       "    <tr>\n",
       "      <th>2</th>\n",
       "      <td>2</td>\n",
       "      <td>-99.34464</td>\n",
       "      <td>19.279859</td>\n",
       "      <td>-99.342453</td>\n",
       "      <td>19.281753</td>\n",
       "      <td>POLYGON ((-99.34464 19.28080598135158, -99.344...</td>\n",
       "    </tr>\n",
       "    <tr>\n",
       "      <th>3</th>\n",
       "      <td>3</td>\n",
       "      <td>-99.34464</td>\n",
       "      <td>19.281753</td>\n",
       "      <td>-99.342453</td>\n",
       "      <td>19.283647</td>\n",
       "      <td>POLYGON ((-99.34464 19.28269969111746, -99.344...</td>\n",
       "    </tr>\n",
       "    <tr>\n",
       "      <th>4</th>\n",
       "      <td>4</td>\n",
       "      <td>-99.34300</td>\n",
       "      <td>19.275125</td>\n",
       "      <td>-99.340813</td>\n",
       "      <td>19.277019</td>\n",
       "      <td>POLYGON ((-99.34299999923535 19.27607170693686...</td>\n",
       "    </tr>\n",
       "  </tbody>\n",
       "</table>\n",
       "</div>"
      ],
      "text/plain": [
       "   FID      left     bottom      right        top  \\\n",
       "0    0 -99.34464  19.276072 -99.342453  19.277965   \n",
       "1    1 -99.34464  19.277965 -99.342453  19.279859   \n",
       "2    2 -99.34464  19.279859 -99.342453  19.281753   \n",
       "3    3 -99.34464  19.281753 -99.342453  19.283647   \n",
       "4    4 -99.34300  19.275125 -99.340813  19.277019   \n",
       "\n",
       "                                            geometry  \n",
       "0  POLYGON ((-99.34464 19.27701856181981, -99.344...  \n",
       "1  POLYGON ((-99.34464 19.27891227158569, -99.344...  \n",
       "2  POLYGON ((-99.34464 19.28080598135158, -99.344...  \n",
       "3  POLYGON ((-99.34464 19.28269969111746, -99.344...  \n",
       "4  POLYGON ((-99.34299999923535 19.27607170693686...  "
      ]
     },
     "execution_count": 37,
     "metadata": {},
     "output_type": "execute_result"
    }
   ],
   "source": [
    "g.head()"
   ]
  },
  {
   "cell_type": "code",
   "execution_count": 38,
   "metadata": {},
   "outputs": [
    {
     "data": {
      "text/plain": [
       "25859"
      ]
     },
     "execution_count": 38,
     "metadata": {},
     "output_type": "execute_result"
    }
   ],
   "source": [
    "len(g)"
   ]
  },
  {
   "cell_type": "code",
   "execution_count": 39,
   "metadata": {},
   "outputs": [],
   "source": [
    "data = g.copy()\n",
    "data[\"X\"] = data.centroid.x\n",
    "data[\"Y\"] = data.centroid.y"
   ]
  },
  {
   "cell_type": "code",
   "execution_count": 40,
   "metadata": {},
   "outputs": [],
   "source": [
    "\n",
    "data = concat_dataset(data, universidad)       \n",
    "data = concat_dataset(data, escuela)           \n",
    "data = concat_dataset(data, kinder)            \n",
    "data = concat_dataset(data, secundaria)        \n",
    "data = concat_dataset(data, teatro)            \n",
    "data = concat_dataset(data, club_nocturno)     \n",
    "data = concat_dataset(data, cine)              \n",
    "data = concat_dataset(data, parque)            \n",
    "data = concat_dataset(data, restaurante)       \n",
    "data = concat_dataset(data, pub)               \n",
    "data = concat_dataset(data, bar)               \n",
    "data = concat_dataset(data, supermercado)      \n",
    "data = concat_dataset(data, centro_comercial)  \n",
    "data = concat_dataset(data, banco)             \n",
    "data = concat_dataset(data, museo)             \n",
    "data = concat_dataset(data, atraccion_turstica)\n",
    "data = concat_dataset(data, hospital)          \n",
    "data = concat_dataset(data, hotel) \n",
    "data = concat_dataset(data, escuela300)      \n",
    "data = concat_dataset(data, club_nocturno300)\n",
    "data = concat_dataset(data, restaurante300)  \n",
    "data = concat_dataset(data, bar300)          \n",
    "data = concat_dataset(data, hospital300)     \n",
    "data = concat_dataset(data, hotel300)   \n",
    " \n",
    "data = concat_dataset(data, semaforos)        \n",
    "data = concat_dataset(data, glorietas)        \n",
    "data = concat_dataset(data, cruces_peatonales)\n",
    "data = concat_dataset(data, retornos)         \n",
    "data = concat_dataset(data, camaras_velocidad)\n",
    "data = concat_dataset(data, semaforos300)        \n",
    "data = concat_dataset(data, cruces_peatonales300)\n",
    "data = concat_dataset(data, camaras_velocidad300)\n",
    "\n",
    "data = concat_dataset(data, est_metro)   \n",
    "data = concat_dataset(data, est_metrobus)\n",
    "data = concat_dataset(data, par_rtp)     \n",
    "data = concat_dataset(data, est_trolebus)\n",
    "data = concat_dataset(data, cetrams)  \n",
    "data = concat_dataset(data, est_metro300)\n",
    "data = concat_dataset(data, par_rtp300) \n",
    "\n",
    "data = concat_dataset(data, interseccion)\n",
    "data = concat_dataset(data, cruces_peligrosos)"
   ]
  },
  {
   "cell_type": "code",
   "execution_count": 41,
   "metadata": {},
   "outputs": [],
   "source": [
    "data = data[['X','Y','attraction', 'bank', 'bar', 'bar_300','cetram', 'cinema', 'college', 'crossing', \n",
    "             'crossing_300','cruce_peligroso','hospital', 'hospital_300', 'hotel','hotel_300', 'interseccion', \n",
    "             'kindergarten','mall', 'metro','metro_300', 'metrobus', 'mini_roundabout', 'museum', 'nightclub',\n",
    "             'nightclub_300', 'park', 'pub', 'restaurant', 'restaurant_300','rtp', 'rtp_300', 'school', \n",
    "             'school_300', 'speed_camera','speed_camera_300', 'supermarket', 'theatre','traffic_signals',\n",
    "             'traffic_signals_300', 'trolebus', 'turning_circle', 'university','geometry']]"
   ]
  },
  {
   "cell_type": "code",
   "execution_count": 44,
   "metadata": {},
   "outputs": [
    {
     "name": "stdout",
     "output_type": "stream",
     "text": [
      "<class 'geopandas.geodataframe.GeoDataFrame'>\n",
      "RangeIndex: 25859 entries, 0 to 25858\n",
      "Data columns (total 44 columns):\n",
      "X                      25859 non-null float64\n",
      "Y                      25859 non-null float64\n",
      "attraction             25859 non-null int64\n",
      "bank                   25859 non-null int64\n",
      "bar                    25859 non-null int64\n",
      "bar_300                25859 non-null int64\n",
      "cetram                 25859 non-null int64\n",
      "cinema                 25859 non-null int64\n",
      "college                25859 non-null int64\n",
      "crossing               25859 non-null int64\n",
      "crossing_300           25859 non-null int64\n",
      "cruce_peligroso        25859 non-null int64\n",
      "hospital               25859 non-null int64\n",
      "hospital_300           25859 non-null int64\n",
      "hotel                  25859 non-null int64\n",
      "hotel_300              25859 non-null int64\n",
      "interseccion           25859 non-null int64\n",
      "kindergarten           25859 non-null int64\n",
      "mall                   25859 non-null int64\n",
      "metro                  25859 non-null int64\n",
      "metro_300              25859 non-null int64\n",
      "metrobus               25859 non-null int64\n",
      "mini_roundabout        25859 non-null int64\n",
      "museum                 25859 non-null int64\n",
      "nightclub              25859 non-null int64\n",
      "nightclub_300          25859 non-null int64\n",
      "park                   25859 non-null int64\n",
      "pub                    25859 non-null int64\n",
      "restaurant             25859 non-null int64\n",
      "restaurant_300         25859 non-null int64\n",
      "rtp                    25859 non-null int64\n",
      "rtp_300                25859 non-null int64\n",
      "school                 25859 non-null int64\n",
      "school_300             25859 non-null int64\n",
      "speed_camera           25859 non-null int64\n",
      "speed_camera_300       25859 non-null int64\n",
      "supermarket            25859 non-null int64\n",
      "theatre                25859 non-null int64\n",
      "traffic_signals        25859 non-null int64\n",
      "traffic_signals_300    25859 non-null int64\n",
      "trolebus               25859 non-null int64\n",
      "turning_circle         25859 non-null int64\n",
      "university             25859 non-null int64\n",
      "geometry               25859 non-null object\n",
      "dtypes: float64(2), int64(41), object(1)\n",
      "memory usage: 8.7+ MB\n"
     ]
    }
   ],
   "source": [
    "data.info()"
   ]
  },
  {
   "cell_type": "code",
   "execution_count": 45,
   "metadata": {},
   "outputs": [],
   "source": [
    "data.crs = {'init' :'epsg:4326'}\n",
    "data.to_file('/Users/daniel.rodriguez/Documents/ACC/ACC_PROOF/ACC1//results_static//shp_ind_200m.shp')"
   ]
  },
  {
   "cell_type": "code",
   "execution_count": 46,
   "metadata": {},
   "outputs": [],
   "source": [
    "dt = data.copy()\n",
    "del dt['geometry']\n",
    "dt.to_csv('/Users/daniel.rodriguez/Documents/ACC/ACC_PROOF/ACC1//results_static//csv_ind_200m.csv')"
   ]
  },
  {
   "cell_type": "code",
   "execution_count": null,
   "metadata": {},
   "outputs": [],
   "source": []
  }
 ],
 "metadata": {
  "kernelspec": {
   "display_name": "Python 3",
   "language": "python",
   "name": "python3"
  },
  "language_info": {
   "codemirror_mode": {
    "name": "ipython",
    "version": 3
   },
   "file_extension": ".py",
   "mimetype": "text/x-python",
   "name": "python",
   "nbconvert_exporter": "python",
   "pygments_lexer": "ipython3",
   "version": "3.8.5"
  }
 },
 "nbformat": 4,
 "nbformat_minor": 4
}
