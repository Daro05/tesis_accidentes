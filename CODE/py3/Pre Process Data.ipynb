{
 "cells": [
  {
   "cell_type": "markdown",
   "metadata": {},
   "source": [
    "# Descubrimientos de patrones de accidentes de tránsito en la CDMX"
   ]
  },
  {
   "cell_type": "markdown",
   "metadata": {},
   "source": [
    "## Pre-Procesamiento y Limpieza de datos "
   ]
  },
  {
   "cell_type": "markdown",
   "metadata": {},
   "source": [
    "### Datasets "
   ]
  },
  {
   "cell_type": "markdown",
   "metadata": {},
   "source": [
    "Esta capa contiene la delimitación territorial de las 16 alcaldías de la Ciudad de México"
   ]
  },
  {
   "cell_type": "markdown",
   "metadata": {},
   "source": [
    "<a href = \"https://datos.cdmx.gob.mx/explore/dataset/alcaldias/map/?location=9,19.32072,-99.15261\">Alcaldías</a>"
   ]
  },
  {
   "cell_type": "markdown",
   "metadata": {},
   "source": [
    "En el siguiente link podemos encontrar en el archivo \"mexico-latest-free.shp.zip\" las diferentes capas que contienen los puntos de interés"
   ]
  },
  {
   "cell_type": "markdown",
   "metadata": {},
   "source": [
    "<a href = \"http://download.geofabrik.de/north-america/mexico.html\">OpenStreeMap data</a>"
   ]
  },
  {
   "cell_type": "markdown",
   "metadata": {},
   "source": [
    "En esta capa contiene el conjunto de datos con los incidentes viales reportados por el C5 desde 2014 actualizado mensualmente "
   ]
  },
  {
   "cell_type": "markdown",
   "metadata": {},
   "source": [
    "<a href = \"https://datos.cdmx.gob.mx/explore/dataset/incidentes-viales-c5/map/?disjunctive.incidente_c4&location=10,19.33685,-99.15797\">Siniestros C5</a>"
   ]
  },
  {
   "cell_type": "markdown",
   "metadata": {},
   "source": [
    "\n",
    "En los siguientes link encontramos los archivos originales para generar la capa de estaciones de transporte correspondientes a: \n",
    "- [Metro](https://datos.cdmx.gob.mx/explore/dataset/estaciones-metro/map/?location=10,19.42256,-99.11934)\n",
    "- [Metrobús](https://datos.cdmx.gob.mx/explore/dataset/estaciones-metrobus/custom/)\n",
    "- [RTP](https://datos.cdmx.gob.mx/explore/dataset/paradas-de-rtp/map/?location=10,19.35506,-99.14389)\n",
    "- [Trolebús](https://datos.cdmx.gob.mx/explore/dataset/paradas-de-trolebus/map/?location=10,19.38553,-99.13676)\n",
    "- [Sistema de Transporte Unificado](https://datos.cdmx.gob.mx/explore/dataset/estaciones-paradas-y-terminales-del-sistema-de-transporte-unificado/map/?location=10,19.36109,-99.15163)\n",
    "- [CETRAM](https://datos.cdmx.gob.mx/explore/dataset/ubicacion-de-centros-de-transferencia-modal-cetram/map/?location=10,19.38,-99.09805)\n",
    "\n"
   ]
  },
  {
   "cell_type": "markdown",
   "metadata": {},
   "source": [
    "Importamos todas las librerías necesarias"
   ]
  },
  {
   "cell_type": "code",
   "execution_count": 1,
   "metadata": {},
   "outputs": [],
   "source": [
    "from math import radians, cos, sin, asin, sqrt, atan2\n",
    "import numpy as np\n",
    "import pandas as pd\n",
    "import matplotlib.pyplot as plt\n",
    "import matplotlib as mpl\n",
    "from pylab import rcParams\n",
    "import seaborn as sns\n",
    "import folium\n",
    "import networkx as nx\n",
    "import osmnx as ox\n",
    "import geopandas as gpd\n",
    "from shapely.geometry import Point, Polygon, LineString, MultiLineString\n",
    "import shapefile as shp\n",
    "import warnings\n",
    "warnings.filterwarnings('ignore')\n",
    "pd.set_option('display.max_columns', None)"
   ]
  },
  {
   "cell_type": "markdown",
   "metadata": {},
   "source": [
    "Procesamiento de los accidentes, primero cargamos la base de datos de accidentes, filtramos por los tipos de reportes que si son accidentes verificables o reales"
   ]
  },
  {
   "cell_type": "code",
   "execution_count": 2,
   "metadata": {
    "scrolled": true
   },
   "outputs": [],
   "source": [
    "url = '/Users/daniel.rodriguez/Documents/ACC/ACC_PROOF/ACC1/shp_b/original_data/ptos_C5_n/incidentes-viales-c5.geojson'\n",
    "pts = gpd.read_file(url)\n",
    "real_pts = pts[(pts['codigo_cierre']=='(A) La unidad de atención a emergencias fue despachada, llegó al lugar de los hechos y confirmó la emergencia reportada')|(pts['codigo_cierre']=='(I) El incidente reportado es afirmativo y se añade información adicional al evento')]\n"
   ]
  },
  {
   "cell_type": "markdown",
   "metadata": {},
   "source": [
    "Guardamos el conjunto de accidentes, hacemos lo mismo separando los accidentes por año "
   ]
  },
  {
   "cell_type": "code",
   "execution_count": 3,
   "metadata": {},
   "outputs": [],
   "source": [
    "real_pts.to_file('/Users//daniel.rodriguez/Documents/ACC/ACC_PROOF//ACC1//shp_b//processed_data//ptosC5//pts_real.shp')\n"
   ]
  },
  {
   "cell_type": "code",
   "execution_count": 3,
   "metadata": {},
   "outputs": [],
   "source": [
    "pts14 = real_pts[real_pts['ano']=='2014']\n",
    "pts15 = real_pts[real_pts['ano']=='2015']\n",
    "pts16 = real_pts[real_pts['ano']=='2016']\n",
    "pts17 = real_pts[real_pts['ano']=='2017']\n",
    "pts18 = real_pts[real_pts['ano']=='2018']\n",
    "pts19 = real_pts[real_pts['ano']=='2019']"
   ]
  },
  {
   "cell_type": "code",
   "execution_count": 5,
   "metadata": {},
   "outputs": [],
   "source": [
    "pts14.to_file('/Users//daniel.rodriguez/Documents/ACC/ACC_PROOF//ACC1//shp_b//processed_data//ptosC5//pts14.shp')\n",
    "pts15.to_file('/Users//daniel.rodriguez/Documents/ACC/ACC_PROOF//ACC1//shp_b//processed_data//ptosC5//pts15.shp')\n",
    "pts16.to_file('/Users//daniel.rodriguez/Documents/ACC/ACC_PROOF//ACC1//shp_b//processed_data//ptosC5//pts16.shp')\n",
    "pts17.to_file('/Users//daniel.rodriguez/Documents/ACC/ACC_PROOF//ACC1//shp_b//processed_data//ptosC5//pts17.shp')\n",
    "pts18.to_file('/Users//daniel.rodriguez/Documents/ACC/ACC_PROOF//ACC1//shp_b//processed_data//ptosC5//pts18.shp')\n",
    "pts19.to_file('/Users//daniel.rodriguez/Documents/ACC/ACC_PROOF//ACC1//shp_b//processed_data//ptosC5//pts19.shp')"
   ]
  },
  {
   "cell_type": "markdown",
   "metadata": {},
   "source": [
    "Cargamos los datos del shape de alcaldías de la CDMX para delimitar todas las capas "
   ]
  },
  {
   "cell_type": "code",
   "execution_count": 2,
   "metadata": {},
   "outputs": [],
   "source": [
    "alcaldias = gpd.read_file('/Users/daniel.rodriguez/Documents/ACC/ACC_PROOF/ACC1//shp_b//original_data//alcaldias_cdmx//alcaldias.shp')"
   ]
  },
  {
   "cell_type": "code",
   "execution_count": 3,
   "metadata": {},
   "outputs": [],
   "source": [
    "alcaldias.replace(['CuauhtÃ©moc', \n",
    "                   'Ã\\x81lvaro ObregÃ³n', \n",
    "                   'Xochimilco', \n",
    "                   'TlÃ¡huac',\n",
    "                   'Benito JuÃ¡rez', \n",
    "                   'Cuajimalpa de Morelos', \n",
    "                   'Gustavo A. Madero',\n",
    "                   'Tlalpan', \n",
    "                   'Venustiano Carranza', \n",
    "                   'Azcapotzalco', \n",
    "                   'Iztapalapa',\n",
    "                   'Iztacalco', \n",
    "                   'Miguel Hidalgo', \n",
    "                   'La Magdalena Contreras',\n",
    "                   'CoyoacÃ¡n', \n",
    "                   'Milpa Alta'],\n",
    "                  \n",
    "                  ['Cuauhtemoc',\n",
    "                   'Alvaro Obregon',\n",
    "                   'Xochimilco',\n",
    "                   'Tlahuac',\n",
    "                   'Benito Juarez',\n",
    "                   'Cuajimalpa de Morelos',\n",
    "                   'Gustavo A. Madero',\n",
    "                   'Tlalpan',\n",
    "                   'Venustiano Carranza',\n",
    "                   'Azcapotzalco',\n",
    "                   'Iztapalapa',\n",
    "                   'Iztacalco',\n",
    "                   'Miguel Hidalgo',\n",
    "                   'La Magdalena Contreras',\n",
    "                   'Coyoacan',\n",
    "                   'Milpa Alta'], inplace = True)\n",
    "\n",
    "alcaldias = alcaldias[['nomgeo','geometry']]\n"
   ]
  },
  {
   "cell_type": "markdown",
   "metadata": {},
   "source": [
    "Procesamos los puntos de interés o variables indirectas"
   ]
  },
  {
   "cell_type": "code",
   "execution_count": 8,
   "metadata": {},
   "outputs": [],
   "source": [
    "pois = gpd.read_file('/Users/daniel.rodriguez/Documents/ACC/ACC_PROOF/ACC1/shp_b/original_data/shp_OSM/gis_osm_pois_free_1.shp')\n",
    "pois_alc = gpd.sjoin(pois, alcaldias, op = 'intersects')\n",
    "pois_alc = pois_alc[['fclass','nomgeo','geometry']]\n",
    "pois_alc.to_file('/Users/daniel.rodriguez/Documents/ACC/ACC_PROOF/ACC1//shp_b//processed_data//shp_OSM//pois.shp')"
   ]
  },
  {
   "cell_type": "code",
   "execution_count": 9,
   "metadata": {},
   "outputs": [],
   "source": [
    "traffic = gpd.read_file('/Users/daniel.rodriguez/Documents/ACC/ACC_PROOF/ACC1/shp_b//original_data//shp_OSM//gis_osm_traffic_free_1.shp')\n",
    "traffic_alc = gpd.sjoin(traffic, alcaldias, op = 'intersects')\n",
    "traffic_alc = traffic_alc[['fclass','nomgeo','geometry']]\n",
    "traffic_alc.to_file('/Users/daniel.rodriguez/Documents/ACC/ACC_PROOF/ACC1//shp_b//processed_data//shp_OSM//traffic.shp')"
   ]
  },
  {
   "cell_type": "code",
   "execution_count": 4,
   "metadata": {},
   "outputs": [],
   "source": [
    "roads = gpd.read_file('/Users/daniel.rodriguez/Documents/ACC/ACC_PROOF/ACC1//shp_b//original_data//shp_OSM//gis_osm_roads_free_1.shp')\n",
    "roads_alc = gpd.sjoin(roads, alcaldias, op = 'intersects')\n",
    "roads_alc = roads_alc[(roads_alc.fclass != 'service') & (roads_alc.fclass != 'footway')]\n",
    "roads_alc = roads_alc[['fclass','name','nomgeo','geometry']]\n",
    "roads_alc = roads_alc.reset_index(drop=True)\n",
    "roads_alc.to_file('/Users/daniel.rodriguez/Documents/ACC/ACC_PROOF/ACC1//shp_b//processed_data//shp_OSM//roads.shp')"
   ]
  },
  {
   "cell_type": "markdown",
   "metadata": {},
   "source": [
    "Procesamiento de capa de estaciones de transporte masivo"
   ]
  },
  {
   "cell_type": "code",
   "execution_count": 11,
   "metadata": {},
   "outputs": [],
   "source": [
    "url_metro = '/Users//daniel.rodriguez//Documents//ACC//ACC_PROOF//ACC1//shp_b//original_data//SHP_transp//estaciones-metro.geojson'\n",
    "metro = gpd.read_file(url_metro)\n",
    "\n",
    "url_metrobus = '/Users//daniel.rodriguez//Documents//ACC//ACC_PROOF//ACC1//shp_b//original_data//SHP_transp//estaciones-metrobus.geojson'\n",
    "metrobus = gpd.read_file(url_metrobus)\n",
    "\n",
    "url_rtp = '/Users//daniel.rodriguez//Documents//ACC//ACC_PROOF//ACC1//shp_b//original_data//SHP_transp//paradas-de-rtp.geojson'\n",
    "rtp = gpd.read_file(url_rtp)\n",
    "\n",
    "url_trole = '/Users//daniel.rodriguez//Documents//ACC//ACC_PROOF//ACC1//shp_b//original_data//SHP_transp//paradas-de-trolebus.geojson'\n",
    "trole = gpd.read_file(url_trole)\n",
    "\n",
    "url_cetram = '/Users//daniel.rodriguez//Documents//ACC//ACC_PROOF//ACC1//shp_b//original_data//SHP_transp//ubicacion-de-centros-de-transferencia-modal-cetram.geojson'\n",
    "cetram = gpd.read_file(url_cetram)"
   ]
  },
  {
   "cell_type": "code",
   "execution_count": 12,
   "metadata": {},
   "outputs": [],
   "source": [
    "metro1 = metro[['stop_name','geometry']]\n",
    "metro1['fclass'] = 'metro'\n",
    "\n",
    "metrobus1 = metrobus[['nombre','geometry']]\n",
    "metrobus1.rename(columns={'nombre':'stop_name'}, inplace = True)\n",
    "metrobus1['fclass'] = 'metrobus'\n",
    "\n",
    "rtp1 = rtp[['stop_name','geometry']]\n",
    "rtp1['fclass'] = 'rtp'\n",
    "\n",
    "trole1 = trole[['stop_name','geometry']]\n",
    "trole1['fclass'] = 'trolebus'\n",
    "\n",
    "cetram1 = cetram[['nombre','geometry']]\n",
    "cetram1.rename(columns={'nombre':'stop_name'}, inplace = True)\n",
    "cetram1['fclass'] = 'cetram'\n",
    "\n",
    "trans = pd.concat([metro1, metrobus1, rtp1, trole1, cetram1], axis = 0, ignore_index = True)\n",
    "trans_alc = gpd.sjoin(trans, alcaldias, op = 'intersects')\n",
    "trans_alc = trans_alc[['fclass','stop_name','nomgeo','geometry']]\n",
    "trans_alc.to_file('/Users//daniel.rodriguez//Documents//ACC//ACC_PROOF//ACC1//shp_b//processed_data//shp_transp//estaciones_transp.shp')"
   ]
  },
  {
   "cell_type": "markdown",
   "metadata": {},
   "source": [
    "Procesamos las intersecciones de la red vial de la CDMX"
   ]
  },
  {
   "cell_type": "code",
   "execution_count": 13,
   "metadata": {},
   "outputs": [
    {
     "data": {
      "text/plain": [
       "array([-99.4078734,  18.9685746, -98.9248062,  19.5883329])"
      ]
     },
     "execution_count": 13,
     "metadata": {},
     "output_type": "execute_result"
    }
   ],
   "source": [
    "roads_alc.total_bounds"
   ]
  },
  {
   "cell_type": "code",
   "execution_count": 14,
   "metadata": {},
   "outputs": [],
   "source": [
    "G = ox.graph_from_bbox(19.5883329, 18.9685746, -98.9248062, -99.4078734, network_type='drive') # N, S, E, W\n",
    "\n",
    "G_proj = ox.project_graph(G)\n",
    "nodes_proj = ox.graph_to_gdfs(G_proj, edges=False)\n",
    "graph_area_m = nodes_proj.unary_union.convex_hull.area"
   ]
  },
  {
   "cell_type": "code",
   "execution_count": 15,
   "metadata": {},
   "outputs": [],
   "source": [
    "intersections = ox.clean_intersections(G_proj, tolerance=12, dead_ends=False)\n",
    "gdf = gpd.GeoDataFrame(geometry=intersections)\n",
    "gdf.crs = G_proj.graph['crs']\n",
    "intersect = ox.project_gdf(gdf, to_latlong=True)"
   ]
  },
  {
   "cell_type": "code",
   "execution_count": 16,
   "metadata": {},
   "outputs": [],
   "source": [
    "intersect['fclass'] = 'interseccion'\n",
    "intersect.to_file('/Users/daniel.rodriguez/Documents/ACC/ACC_PROOF/ACC1//shp_b//processed_data//shp_OSM//intersections.shp')"
   ]
  },
  {
   "cell_type": "markdown",
   "metadata": {},
   "source": [
    "Preprocesamos los hexagonos "
   ]
  },
  {
   "cell_type": "code",
   "execution_count": 6,
   "metadata": {},
   "outputs": [],
   "source": [
    "#Primero hacemos el intersect con las alcaldias de la ciudad de mexico y quitamos los duplicados\n",
    "hex50 = gpd.read_file('/Users/daniel.rodriguez/Documents/ACC/ACC_PROOF/ACC1//shp_b//original_data//hex//temp50.shp')\n",
    "hex50_alc = gpd.sjoin(hex50, alcaldias, op = 'intersects')\n",
    "hex50_alc = hex50_alc[['left','bottom','right','top','geometry']]\n",
    "hex50_alc = hex50_alc.reset_index(drop=True)\n",
    "hex50_alc1 = hex50_alc[['left','bottom','right','top']]\n",
    "hex50_alc2 = hex50_alc1[hex50_alc1.duplicated()]\n",
    "list_index50 = list(hex50_alc2.index)\n",
    "hex50_alc_f = hex50_alc[~hex50_alc.index.isin(list_index50)]\n",
    "\n",
    "#Ya que tenemos unicamente hexagonos de alcaldia, ahora lo hacemos con la red vial \n",
    "road_hex50 = gpd.sjoin(hex50_alc_f, roads_alc, op = 'intersects')\n",
    "road_hex50 = road_hex50[['left','bottom','right','top','fclass','name','nomgeo','geometry']]\n",
    "road_hex50 = road_hex50.reset_index(drop=True)\n",
    "road_hex50_1 = road_hex50[['left','bottom','right','top']]\n",
    "road_hex50_2 = road_hex50_1[road_hex50_1.duplicated()]\n",
    "list_index50 = list(road_hex50_2.index)\n",
    "road_hex50_f = road_hex50[~road_hex50.index.isin(list_index50)]\n",
    "road_hex50_f = road_hex50_f[['left','bottom','right','top','geometry']]\n",
    "road_hex50_f.to_file('/Users/daniel.rodriguez/Documents/ACC/ACC_PROOF/ACC1//shp_b//processed_data//hex_roads//road_hex50.shp')"
   ]
  },
  {
   "cell_type": "code",
   "execution_count": 5,
   "metadata": {},
   "outputs": [],
   "source": [
    "#Primero hacemos el intersect con las alcaldias de la ciudad de mexico y quitamos los duplicados\n",
    "hex100 = gpd.read_file('/Users/daniel.rodriguez/Documents/ACC/ACC_PROOF/ACC1//shp_b//original_data//hex//temp100_p.shp')\n",
    "hex100_alc = gpd.sjoin(hex100, alcaldias, op = 'intersects')\n",
    "hex100_alc = hex100_alc[['left','bottom','right','top','geometry']]\n",
    "hex100_alc = hex100_alc.reset_index(drop=True)\n",
    "hex100_alc1 = hex100_alc[['left','bottom','right','top']]\n",
    "hex100_alc2 = hex100_alc1[hex100_alc1.duplicated()]\n",
    "list_index100 = list(hex100_alc2.index)\n",
    "hex100_alc_f = hex100_alc[~hex100_alc.index.isin(list_index100)]\n",
    "\n",
    "#Ya que tenemos unicamente hexagonos de alcaldia, ahora lo hacemos con la red vial \n",
    "road_hex100 = gpd.sjoin(hex100_alc_f, roads_alc, op = 'intersects')\n",
    "road_hex100 = road_hex100[['left','bottom','right','top','fclass','name','nomgeo','geometry']]\n",
    "road_hex100 = road_hex100.reset_index(drop=True)\n",
    "road_hex100_1 = road_hex100[['left','bottom','right','top']]\n",
    "road_hex100_2 = road_hex100_1[road_hex100_1.duplicated()]\n",
    "list_index100 = list(road_hex100_2.index)\n",
    "road_hex100_f = road_hex100[~road_hex100.index.isin(list_index100)]\n",
    "road_hex100_f = road_hex100_f[['left','bottom','right','top','geometry']]\n",
    "road_hex100_f.to_file('/Users/daniel.rodriguez/Documents/ACC/ACC_PROOF/ACC1//shp_b//processed_data//hex_roads//road_hex100.shp')"
   ]
  },
  {
   "cell_type": "code",
   "execution_count": 7,
   "metadata": {},
   "outputs": [],
   "source": [
    "#Primero hacemos el intersect con las alcaldias de la ciudad de mexico y quitamos los duplicados\n",
    "hex200 = gpd.read_file('/Users/daniel.rodriguez/Documents/ACC/ACC_PROOF/ACC1//shp_b//original_data//hex//temp200.shp')\n",
    "hex200_alc = gpd.sjoin(hex200, alcaldias, op = 'intersects')\n",
    "hex200_alc = hex200_alc[['left','bottom','right','top','geometry']]\n",
    "hex200_alc = hex200_alc.reset_index(drop=True)\n",
    "hex200_alc1 = hex200_alc[['left','bottom','right','top']]\n",
    "hex200_alc2 = hex200_alc1[hex200_alc1.duplicated()]\n",
    "list_index200 = list(hex200_alc2.index)\n",
    "hex200_alc_f = hex200_alc[~hex200_alc.index.isin(list_index200)]\n",
    "\n",
    "#Ya que tenemos unicamente hexagonos de alcaldia, ahora lo hacemos con la red vial \n",
    "road_hex200 = gpd.sjoin(hex200_alc_f, roads_alc, op = 'intersects')\n",
    "road_hex200 = road_hex200[['left','bottom','right','top','fclass','name','nomgeo','geometry']]\n",
    "road_hex200 = road_hex200.reset_index(drop=True)\n",
    "road_hex200_1 = road_hex200[['left','bottom','right','top']]\n",
    "road_hex200_2 = road_hex200_1[road_hex200_1.duplicated()]\n",
    "list_index200 = list(road_hex200_2.index)\n",
    "road_hex200_f = road_hex200[~road_hex200.index.isin(list_index200)]\n",
    "road_hex200_f = road_hex200_f[['left','bottom','right','top','geometry']]\n",
    "road_hex200_f.to_file('/Users/daniel.rodriguez/Documents/ACC/ACC_PROOF/ACC1//shp_b//processed_data//hex_roads//road_hex200.shp')"
   ]
  },
  {
   "cell_type": "code",
   "execution_count": 6,
   "metadata": {},
   "outputs": [],
   "source": [
    "#Primero hacemos el intersect con las alcaldias de la ciudad de mexico y quitamos los duplicados\n",
    "hex300 = gpd.read_file('/Users/daniel.rodriguez/Documents/ACC/ACC_PROOF/ACC1//shp_b//original_data//hex//temp300_p.shp')\n",
    "hex300_alc = gpd.sjoin(hex300, alcaldias, op = 'intersects')\n",
    "hex300_alc = hex300_alc[['left','bottom','right','top','geometry']]\n",
    "hex300_alc = hex300_alc.reset_index(drop=True)\n",
    "hex300_alc1 = hex300_alc[['left','bottom','right','top']]\n",
    "hex300_alc2 = hex300_alc1[hex300_alc1.duplicated()]\n",
    "list_index300 = list(hex300_alc2.index)\n",
    "hex300_alc_f = hex300_alc[~hex300_alc.index.isin(list_index300)]\n",
    "\n",
    "#Ya que tenemos unicamente hexagonos de alcaldia, ahora lo hacemos con la red vial \n",
    "road_hex300 = gpd.sjoin(hex300_alc_f, roads_alc, op = 'intersects')\n",
    "road_hex300 = road_hex300[['left','bottom','right','top','fclass','name','nomgeo','geometry']]\n",
    "road_hex300 = road_hex300.reset_index(drop=True)\n",
    "road_hex300_1 = road_hex300[['left','bottom','right','top']]\n",
    "road_hex300_2 = road_hex300_1[road_hex300_1.duplicated()]\n",
    "list_index300 = list(road_hex300_2.index)\n",
    "road_hex300_f = road_hex300[~road_hex300.index.isin(list_index300)]\n",
    "road_hex300_f = road_hex300_f[['left','bottom','right','top','geometry']]\n",
    "road_hex300_f.to_file('/Users/daniel.rodriguez/Documents/ACC/ACC_PROOF/ACC1//shp_b//processed_data//hex_roads//road_hex300.shp')"
   ]
  },
  {
   "cell_type": "code",
   "execution_count": 7,
   "metadata": {},
   "outputs": [],
   "source": [
    "hex500 = gpd.read_file('/Users/daniel.rodriguez/Documents/ACC/ACC_PROOF/ACC1//shp_b//original_data//hex//temp500_p.shp')\n",
    "hex500_alc = gpd.sjoin(hex500, alcaldias, op = 'intersects')\n",
    "hex500_alc = hex500_alc[['left','bottom','right','top','geometry']]\n",
    "hex500_alc = hex500_alc.reset_index(drop=True)\n",
    "hex500_alc1 = hex500_alc[['left','bottom','right','top']]\n",
    "hex500_alc2 = hex500_alc1[hex500_alc1.duplicated()]\n",
    "list_index500 = list(hex500_alc2.index)\n",
    "hex500_alc_f = hex500_alc[~hex500_alc.index.isin(list_index500)]\n",
    "\n",
    "road_hex500 = gpd.sjoin(hex500_alc_f, roads_alc, op = 'intersects')\n",
    "road_hex500 = road_hex500[['left','bottom','right','top','fclass','name','nomgeo','geometry']]\n",
    "road_hex500 = road_hex500.reset_index(drop=True)\n",
    "road_hex500_1 = road_hex500[['left','bottom','right','top']]\n",
    "road_hex500_2 = road_hex500_1[road_hex500_1.duplicated()]\n",
    "list_index500 = list(road_hex500_2.index)\n",
    "road_hex500_f = road_hex500[~road_hex500.index.isin(list_index500)]\n",
    "road_hex500_f = road_hex500_f[['left','bottom','right','top','geometry']]\n",
    "road_hex500_f.to_file('/Users/daniel.rodriguez/Documents/ACC/ACC_PROOF/ACC1//shp_b//processed_data//hex_roads//road_hex500.shp')"
   ]
  },
  {
   "cell_type": "markdown",
   "metadata": {},
   "source": [
    "Procesamos el shape de índice de cruce peligroso para el peatón"
   ]
  },
  {
   "cell_type": "code",
   "execution_count": 20,
   "metadata": {},
   "outputs": [],
   "source": [
    "cruces_index = gpd.read_file('/Users//daniel.rodriguez//Documents//ACC//ACC_PROOF//ACC1//shp_b//original_data//cruces_indice//cruceros503Point.shp')\n",
    "cruces_index1 = cruces_index[['calificaci','geometry']]\n",
    "cruces_index2 = cruces_index1[cruces_index1['calificaci']<=0.6]\n",
    "cruces_index2['fclass'] = 'cruce_peligroso'\n",
    "cruces_index2.to_file('/Users//daniel.rodriguez//Documents//ACC//ACC_PROOF//ACC1//shp_b//processed_data//cruces//cruces_pelis.shp')"
   ]
  },
  {
   "cell_type": "code",
   "execution_count": null,
   "metadata": {},
   "outputs": [],
   "source": []
  }
 ],
 "metadata": {
  "kernelspec": {
   "display_name": "Python 3",
   "language": "python",
   "name": "python3"
  },
  "language_info": {
   "codemirror_mode": {
    "name": "ipython",
    "version": 3
   },
   "file_extension": ".py",
   "mimetype": "text/x-python",
   "name": "python",
   "nbconvert_exporter": "python",
   "pygments_lexer": "ipython3",
   "version": "3.8.5"
  }
 },
 "nbformat": 4,
 "nbformat_minor": 4
}
